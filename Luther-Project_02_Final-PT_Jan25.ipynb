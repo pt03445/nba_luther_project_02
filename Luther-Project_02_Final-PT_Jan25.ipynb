{
 "cells": [
  {
   "cell_type": "code",
   "execution_count": 1,
   "metadata": {},
   "outputs": [
    {
     "name": "stderr",
     "output_type": "stream",
     "text": [
      "C:\\ProgramData\\Anaconda3\\lib\\site-packages\\sklearn\\cross_validation.py:41: DeprecationWarning: This module was deprecated in version 0.18 in favor of the model_selection module into which all the refactored classes and functions are moved. Also note that the interface of the new CV iterators are different from that of this module. This module will be removed in 0.20.\n",
      "  \"This module will be removed in 0.20.\", DeprecationWarning)\n"
     ]
    }
   ],
   "source": [
    "import pandas as pd\n",
    "import numpy as np\n",
    "import matplotlib.pyplot as plt\n",
    "import seaborn as sns\n",
    "#from seaborn import plt\n",
    "from sklearn.linear_model import LinearRegression\n",
    "from sklearn.model_selection import train_test_split\n",
    "from sklearn.linear_model import RidgeCV\n",
    "from sklearn.pipeline import make_pipeline\n",
    "from sklearn.preprocessing import PolynomialFeatures\n",
    "from sklearn.cross_validation import KFold\n",
    "\n",
    "import warnings\n",
    "warnings.filterwarnings(\"ignore\")\n",
    "\n",
    "from sklearn.metrics import mean_squared_error\n",
    "\n",
    "\n",
    "%matplotlib inline"
   ]
  },
  {
   "cell_type": "code",
   "execution_count": 2,
   "metadata": {
    "collapsed": true
   },
   "outputs": [],
   "source": [
    "from sklearn.linear_model import Ridge\n",
    "import csv\n",
    "from sklearn.linear_model import Lasso\n",
    "from sklearn.linear_model import LassoCV\n",
    "import statsmodels.api as sm\n",
    "import patsy\n",
    "import statsmodels.formula.api as smf"
   ]
  },
  {
   "cell_type": "code",
   "execution_count": 78,
   "metadata": {
    "collapsed": true
   },
   "outputs": [],
   "source": [
    "csvfile5 = pd.read_csv('df7_nbateams_2015-13_train_WinPCT.csv')\n",
    "csvfile6 = pd.read_csv('df7_nbateams_2016_testOne-Use.csv')\n",
    "csvfile7 = pd.read_csv('df7_nbateams_2017_test-Use.csv')"
   ]
  },
  {
   "cell_type": "code",
   "execution_count": 79,
   "metadata": {
    "collapsed": true
   },
   "outputs": [],
   "source": [
    "df10 = csvfile5 #Train Dataset\n",
    "df11 = csvfile6 #Test Dataset\n",
    "df12 = csvfile7 #Verify Dataset"
   ]
  },
  {
   "cell_type": "code",
   "execution_count": 60,
   "metadata": {},
   "outputs": [
    {
     "data": {
      "text/plain": [
       "Index(['YEAR_x', 'TEAM', 'WINPERCENT_x', 'PREV_YEAR_x', 'GP_y', 'WINPERCENT_y',\n",
       "       'WinPCT_2013_14', 'MIN_y', 'PTS_y', 'FGM_y', 'FGA_y', 'FGPercent_y',\n",
       "       'ThreePtMade_y', 'ThreePtAttempts_y', 'ThreePtPercent_y', 'FTM_y',\n",
       "       'FTA_y', 'FTPercent_y', 'OREB_y', 'DREB_y', 'REB_y', 'AST_y', 'TOV_y',\n",
       "       'STL_y', 'BLK_y', 'BLKA_y', 'PF_y', 'PFD_y', 'PlusMinus_y'],\n",
       "      dtype='object')"
      ]
     },
     "execution_count": 60,
     "metadata": {},
     "output_type": "execute_result"
    }
   ],
   "source": [
    "df10.columns"
   ]
  },
  {
   "cell_type": "code",
   "execution_count": 61,
   "metadata": {},
   "outputs": [
    {
     "data": {
      "text/html": [
       "<table class=\"simpletable\">\n",
       "<caption>OLS Regression Results</caption>\n",
       "<tr>\n",
       "  <th>Dep. Variable:</th>      <td>WINPERCENT_x</td>   <th>  R-squared:         </th> <td>   0.969</td>\n",
       "</tr>\n",
       "<tr>\n",
       "  <th>Model:</th>                   <td>OLS</td>       <th>  Adj. R-squared:    </th> <td>   0.820</td>\n",
       "</tr>\n",
       "<tr>\n",
       "  <th>Method:</th>             <td>Least Squares</td>  <th>  F-statistic:       </th> <td>   6.508</td>\n",
       "</tr>\n",
       "<tr>\n",
       "  <th>Date:</th>             <td>Fri, 26 Jan 2018</td> <th>  Prob (F-statistic):</th>  <td>0.0231</td> \n",
       "</tr>\n",
       "<tr>\n",
       "  <th>Time:</th>                 <td>10:14:43</td>     <th>  Log-Likelihood:    </th> <td>  63.317</td>\n",
       "</tr>\n",
       "<tr>\n",
       "  <th>No. Observations:</th>      <td>    30</td>      <th>  AIC:               </th> <td>  -76.63</td>\n",
       "</tr>\n",
       "<tr>\n",
       "  <th>Df Residuals:</th>          <td>     5</td>      <th>  BIC:               </th> <td>  -41.60</td>\n",
       "</tr>\n",
       "<tr>\n",
       "  <th>Df Model:</th>              <td>    24</td>      <th>                     </th>     <td> </td>   \n",
       "</tr>\n",
       "<tr>\n",
       "  <th>Covariance Type:</th>      <td>nonrobust</td>    <th>                     </th>     <td> </td>   \n",
       "</tr>\n",
       "</table>\n",
       "<table class=\"simpletable\">\n",
       "<tr>\n",
       "          <td></td>             <th>coef</th>     <th>std err</th>      <th>t</th>      <th>P>|t|</th>  <th>[0.025</th>    <th>0.975]</th>  \n",
       "</tr>\n",
       "<tr>\n",
       "  <th>Intercept</th>         <td>    0.0100</td> <td>    0.004</td> <td>    2.265</td> <td> 0.073</td> <td>   -0.001</td> <td>    0.021</td>\n",
       "</tr>\n",
       "<tr>\n",
       "  <th>GP_y</th>              <td>    0.8217</td> <td>    0.363</td> <td>    2.265</td> <td> 0.073</td> <td>   -0.111</td> <td>    1.754</td>\n",
       "</tr>\n",
       "<tr>\n",
       "  <th>WINPERCENT_y</th>      <td>   -1.6168</td> <td>    0.559</td> <td>   -2.892</td> <td> 0.034</td> <td>   -3.054</td> <td>   -0.180</td>\n",
       "</tr>\n",
       "<tr>\n",
       "  <th>WinPCT_2013_14</th>    <td>    0.1163</td> <td>    0.141</td> <td>    0.825</td> <td> 0.447</td> <td>   -0.246</td> <td>    0.479</td>\n",
       "</tr>\n",
       "<tr>\n",
       "  <th>MIN_y</th>             <td>    0.0802</td> <td>    0.150</td> <td>    0.534</td> <td> 0.616</td> <td>   -0.306</td> <td>    0.466</td>\n",
       "</tr>\n",
       "<tr>\n",
       "  <th>PTS_y</th>             <td>    0.5115</td> <td>    0.474</td> <td>    1.080</td> <td> 0.330</td> <td>   -0.706</td> <td>    1.729</td>\n",
       "</tr>\n",
       "<tr>\n",
       "  <th>FGM_y</th>             <td>    0.4466</td> <td>    1.189</td> <td>    0.375</td> <td> 0.723</td> <td>   -2.611</td> <td>    3.504</td>\n",
       "</tr>\n",
       "<tr>\n",
       "  <th>FGA_y</th>             <td>   -0.7543</td> <td>    0.392</td> <td>   -1.923</td> <td> 0.112</td> <td>   -1.762</td> <td>    0.254</td>\n",
       "</tr>\n",
       "<tr>\n",
       "  <th>FGPercent_y</th>       <td>   -1.1934</td> <td>    0.660</td> <td>   -1.809</td> <td> 0.130</td> <td>   -2.889</td> <td>    0.502</td>\n",
       "</tr>\n",
       "<tr>\n",
       "  <th>ThreePtMade_y</th>     <td>    0.2539</td> <td>    0.576</td> <td>    0.441</td> <td> 0.678</td> <td>   -1.227</td> <td>    1.735</td>\n",
       "</tr>\n",
       "<tr>\n",
       "  <th>ThreePtAttempts_y</th> <td>   -0.2403</td> <td>    0.151</td> <td>   -1.592</td> <td> 0.172</td> <td>   -0.628</td> <td>    0.148</td>\n",
       "</tr>\n",
       "<tr>\n",
       "  <th>ThreePtPercent_y</th>  <td>   -0.2395</td> <td>    0.100</td> <td>   -2.387</td> <td> 0.063</td> <td>   -0.497</td> <td>    0.018</td>\n",
       "</tr>\n",
       "<tr>\n",
       "  <th>FTM_y</th>             <td>   -0.1368</td> <td>    0.422</td> <td>   -0.324</td> <td> 0.759</td> <td>   -1.221</td> <td>    0.947</td>\n",
       "</tr>\n",
       "<tr>\n",
       "  <th>FTA_y</th>             <td>   -0.3296</td> <td>    0.436</td> <td>   -0.756</td> <td> 0.484</td> <td>   -1.450</td> <td>    0.791</td>\n",
       "</tr>\n",
       "<tr>\n",
       "  <th>FTPercent_y</th>       <td>   -0.0578</td> <td>    0.132</td> <td>   -0.438</td> <td> 0.679</td> <td>   -0.397</td> <td>    0.281</td>\n",
       "</tr>\n",
       "<tr>\n",
       "  <th>OREB_y</th>            <td>    1.5400</td> <td>    0.583</td> <td>    2.641</td> <td> 0.046</td> <td>    0.041</td> <td>    3.039</td>\n",
       "</tr>\n",
       "<tr>\n",
       "  <th>DREB_y</th>            <td>    1.5276</td> <td>    0.590</td> <td>    2.588</td> <td> 0.049</td> <td>    0.010</td> <td>    3.045</td>\n",
       "</tr>\n",
       "<tr>\n",
       "  <th>REB_y</th>             <td>   -1.4480</td> <td>    0.575</td> <td>   -2.520</td> <td> 0.053</td> <td>   -2.925</td> <td>    0.029</td>\n",
       "</tr>\n",
       "<tr>\n",
       "  <th>AST_y</th>             <td>    0.0266</td> <td>    0.020</td> <td>    1.317</td> <td> 0.245</td> <td>   -0.025</td> <td>    0.079</td>\n",
       "</tr>\n",
       "<tr>\n",
       "  <th>TOV_y</th>             <td>   -0.0880</td> <td>    0.080</td> <td>   -1.106</td> <td> 0.319</td> <td>   -0.293</td> <td>    0.117</td>\n",
       "</tr>\n",
       "<tr>\n",
       "  <th>STL_y</th>             <td>    0.0993</td> <td>    0.099</td> <td>    0.998</td> <td> 0.364</td> <td>   -0.156</td> <td>    0.355</td>\n",
       "</tr>\n",
       "<tr>\n",
       "  <th>BLK_y</th>             <td>   -0.0289</td> <td>    0.049</td> <td>   -0.592</td> <td> 0.580</td> <td>   -0.154</td> <td>    0.097</td>\n",
       "</tr>\n",
       "<tr>\n",
       "  <th>BLKA_y</th>            <td>    0.0634</td> <td>    0.039</td> <td>    1.607</td> <td> 0.169</td> <td>   -0.038</td> <td>    0.165</td>\n",
       "</tr>\n",
       "<tr>\n",
       "  <th>PF_y</th>              <td>    0.0148</td> <td>    0.020</td> <td>    0.740</td> <td> 0.493</td> <td>   -0.037</td> <td>    0.066</td>\n",
       "</tr>\n",
       "<tr>\n",
       "  <th>PFD_y</th>             <td>    0.0268</td> <td>    0.042</td> <td>    0.635</td> <td> 0.553</td> <td>   -0.082</td> <td>    0.135</td>\n",
       "</tr>\n",
       "<tr>\n",
       "  <th>PlusMinus_y</th>       <td>    0.0567</td> <td>    0.034</td> <td>    1.655</td> <td> 0.159</td> <td>   -0.031</td> <td>    0.145</td>\n",
       "</tr>\n",
       "</table>\n",
       "<table class=\"simpletable\">\n",
       "<tr>\n",
       "  <th>Omnibus:</th>       <td> 3.331</td> <th>  Durbin-Watson:     </th> <td>   1.595</td>\n",
       "</tr>\n",
       "<tr>\n",
       "  <th>Prob(Omnibus):</th> <td> 0.189</td> <th>  Jarque-Bera (JB):  </th> <td>   2.144</td>\n",
       "</tr>\n",
       "<tr>\n",
       "  <th>Skew:</th>          <td>-0.211</td> <th>  Prob(JB):          </th> <td>   0.342</td>\n",
       "</tr>\n",
       "<tr>\n",
       "  <th>Kurtosis:</th>      <td> 4.240</td> <th>  Cond. No.          </th> <td>4.26e+17</td>\n",
       "</tr>\n",
       "</table>"
      ],
      "text/plain": [
       "<class 'statsmodels.iolib.summary.Summary'>\n",
       "\"\"\"\n",
       "                            OLS Regression Results                            \n",
       "==============================================================================\n",
       "Dep. Variable:           WINPERCENT_x   R-squared:                       0.969\n",
       "Model:                            OLS   Adj. R-squared:                  0.820\n",
       "Method:                 Least Squares   F-statistic:                     6.508\n",
       "Date:                Fri, 26 Jan 2018   Prob (F-statistic):             0.0231\n",
       "Time:                        10:14:43   Log-Likelihood:                 63.317\n",
       "No. Observations:                  30   AIC:                            -76.63\n",
       "Df Residuals:                       5   BIC:                            -41.60\n",
       "Df Model:                          24                                         \n",
       "Covariance Type:            nonrobust                                         \n",
       "=====================================================================================\n",
       "                        coef    std err          t      P>|t|      [0.025      0.975]\n",
       "-------------------------------------------------------------------------------------\n",
       "Intercept             0.0100      0.004      2.265      0.073      -0.001       0.021\n",
       "GP_y                  0.8217      0.363      2.265      0.073      -0.111       1.754\n",
       "WINPERCENT_y         -1.6168      0.559     -2.892      0.034      -3.054      -0.180\n",
       "WinPCT_2013_14        0.1163      0.141      0.825      0.447      -0.246       0.479\n",
       "MIN_y                 0.0802      0.150      0.534      0.616      -0.306       0.466\n",
       "PTS_y                 0.5115      0.474      1.080      0.330      -0.706       1.729\n",
       "FGM_y                 0.4466      1.189      0.375      0.723      -2.611       3.504\n",
       "FGA_y                -0.7543      0.392     -1.923      0.112      -1.762       0.254\n",
       "FGPercent_y          -1.1934      0.660     -1.809      0.130      -2.889       0.502\n",
       "ThreePtMade_y         0.2539      0.576      0.441      0.678      -1.227       1.735\n",
       "ThreePtAttempts_y    -0.2403      0.151     -1.592      0.172      -0.628       0.148\n",
       "ThreePtPercent_y     -0.2395      0.100     -2.387      0.063      -0.497       0.018\n",
       "FTM_y                -0.1368      0.422     -0.324      0.759      -1.221       0.947\n",
       "FTA_y                -0.3296      0.436     -0.756      0.484      -1.450       0.791\n",
       "FTPercent_y          -0.0578      0.132     -0.438      0.679      -0.397       0.281\n",
       "OREB_y                1.5400      0.583      2.641      0.046       0.041       3.039\n",
       "DREB_y                1.5276      0.590      2.588      0.049       0.010       3.045\n",
       "REB_y                -1.4480      0.575     -2.520      0.053      -2.925       0.029\n",
       "AST_y                 0.0266      0.020      1.317      0.245      -0.025       0.079\n",
       "TOV_y                -0.0880      0.080     -1.106      0.319      -0.293       0.117\n",
       "STL_y                 0.0993      0.099      0.998      0.364      -0.156       0.355\n",
       "BLK_y                -0.0289      0.049     -0.592      0.580      -0.154       0.097\n",
       "BLKA_y                0.0634      0.039      1.607      0.169      -0.038       0.165\n",
       "PF_y                  0.0148      0.020      0.740      0.493      -0.037       0.066\n",
       "PFD_y                 0.0268      0.042      0.635      0.553      -0.082       0.135\n",
       "PlusMinus_y           0.0567      0.034      1.655      0.159      -0.031       0.145\n",
       "==============================================================================\n",
       "Omnibus:                        3.331   Durbin-Watson:                   1.595\n",
       "Prob(Omnibus):                  0.189   Jarque-Bera (JB):                2.144\n",
       "Skew:                          -0.211   Prob(JB):                        0.342\n",
       "Kurtosis:                       4.240   Cond. No.                     4.26e+17\n",
       "==============================================================================\n",
       "\n",
       "Warnings:\n",
       "[1] Standard Errors assume that the covariance matrix of the errors is correctly specified.\n",
       "[2] The smallest eigenvalue is 7.02e-30. This might indicate that there are\n",
       "strong multicollinearity problems or that the design matrix is singular.\n",
       "\"\"\""
      ]
     },
     "execution_count": 61,
     "metadata": {},
     "output_type": "execute_result"
    }
   ],
   "source": [
    "#X_skTrain = df10.iloc[:, 4:]\n",
    "#y_skTrain = df10.iloc[:, 2]\n",
    "\n",
    "\n",
    "y_train,X_train = patsy.dmatrices('WINPERCENT_x ~ GP_y + WINPERCENT_y + WinPCT_2013_14 + MIN_y + PTS_y + FGM_y + FGA_y + FGPercent_y + ThreePtMade_y + ThreePtAttempts_y + ThreePtPercent_y + FTM_y + FTA_y + FTPercent_y + OREB_y + DREB_y + REB_y + AST_y + TOV_y + STL_y + BLK_y + BLKA_y + PF_y + PFD_y + PlusMinus_y', data=df10, return_type=\"dataframe\" )\n",
    "modelTrain = sm.OLS(y_train,X_train)\n",
    "fitTrain = modelTrain.fit()\n",
    "fitTrain.summary()"
   ]
  },
  {
   "cell_type": "code",
   "execution_count": 80,
   "metadata": {},
   "outputs": [],
   "source": [
    "y_test,X_test = patsy.dmatrices('WINPERCENT_x ~ GP_y + WINPERCENT_y + WinPCT_2014_15 + MIN_y + PTS_y + FGM_y + FGA_y + FGPercent_y + ThreePtMade_y + ThreePtAttempts_y + ThreePtPercent_y + FTM_y + FTA_y + FTPercent_y + OREB_y + DREB_y + REB_y + AST_y + TOV_y + STL_y + BLK_y + BLKA_y + PF_y + PFD_y + PlusMinus_y', data=df11, return_type=\"dataframe\" )\n",
    "#predTest = fitTrain.predict(X_test)"
   ]
  },
  {
   "cell_type": "code",
   "execution_count": 88,
   "metadata": {
    "collapsed": true
   },
   "outputs": [],
   "source": [
    "from sklearn.metrics import mean_squared_error\n",
    "from sklearn import metrics"
   ]
  },
  {
   "cell_type": "code",
   "execution_count": 7,
   "metadata": {},
   "outputs": [
    {
     "data": {
      "text/plain": [
       "0.93341275810283264"
      ]
     },
     "execution_count": 7,
     "metadata": {},
     "output_type": "execute_result"
    }
   ],
   "source": [
    "predTrain = fitTrain.predict(X_train)\n",
    "\n",
    "fitTrain.rsquared"
   ]
  },
  {
   "cell_type": "code",
   "execution_count": 89,
   "metadata": {},
   "outputs": [
    {
     "data": {
      "text/plain": [
       "-2.2396121979966486"
      ]
     },
     "execution_count": 89,
     "metadata": {},
     "output_type": "execute_result"
    }
   ],
   "source": [
    "predTest = fitTrain.predict(X_test)\n",
    "predTest\n",
    "\n",
    "y_predTest = predTest\n",
    "y_Testreal =y_test\n",
    "\n",
    "metrics.r2_score(y_Testreal, y_predTest)"
   ]
  },
  {
   "cell_type": "code",
   "execution_count": 62,
   "metadata": {
    "collapsed": true
   },
   "outputs": [],
   "source": [
    "#Training Dataset\n",
    "X_skTrain = df10.iloc[:, 4:]\n",
    "y_skTrain = df10.iloc[:, 2]\n",
    "\n",
    "#Test Dataset\n",
    "X_skTest = df11.iloc[:, 4:]\n",
    "y_skTest = df11.iloc[:, 2]\n",
    "\n",
    "#Validate Dataset\n",
    "X_skVal = df12.iloc[:, 4:]\n",
    "y_skVal = df12.iloc[:, 2]"
   ]
  },
  {
   "cell_type": "code",
   "execution_count": 17,
   "metadata": {
    "collapsed": true
   },
   "outputs": [],
   "source": [
    "##### Linear Regression using sklearn################\n",
    "lrModel = LinearRegression()"
   ]
  },
  {
   "cell_type": "code",
   "execution_count": 18,
   "metadata": {},
   "outputs": [
    {
     "data": {
      "text/plain": [
       "LinearRegression(copy_X=True, fit_intercept=True, n_jobs=1, normalize=False)"
      ]
     },
     "execution_count": 18,
     "metadata": {},
     "output_type": "execute_result"
    }
   ],
   "source": [
    "lrModel.fit(X_skTrain,y_skTrain)"
   ]
  },
  {
   "cell_type": "code",
   "execution_count": 57,
   "metadata": {},
   "outputs": [
    {
     "data": {
      "text/plain": [
       "0.96898275294917502"
      ]
     },
     "execution_count": 57,
     "metadata": {},
     "output_type": "execute_result"
    }
   ],
   "source": [
    "lrModel.score(X_skTrain,y_skTrain)"
   ]
  },
  {
   "cell_type": "code",
   "execution_count": 90,
   "metadata": {},
   "outputs": [
    {
     "data": {
      "text/plain": [
       "-2.2396121980082619"
      ]
     },
     "execution_count": 90,
     "metadata": {},
     "output_type": "execute_result"
    }
   ],
   "source": [
    "lrModel.score(X_skTest,y_skTest)"
   ]
  },
  {
   "cell_type": "code",
   "execution_count": 91,
   "metadata": {},
   "outputs": [
    {
     "data": {
      "text/plain": [
       "-2.2746852270332112"
      ]
     },
     "execution_count": 91,
     "metadata": {},
     "output_type": "execute_result"
    }
   ],
   "source": [
    "lrModel.score(X_skVal,y_skVal)"
   ]
  },
  {
   "cell_type": "code",
   "execution_count": null,
   "metadata": {
    "collapsed": true
   },
   "outputs": [],
   "source": []
  },
  {
   "cell_type": "code",
   "execution_count": 20,
   "metadata": {
    "collapsed": true
   },
   "outputs": [],
   "source": [
    "##### Linear Regression using Ridge() sklearn################\n",
    "ModelRidge1 = Ridge()"
   ]
  },
  {
   "cell_type": "code",
   "execution_count": 21,
   "metadata": {},
   "outputs": [
    {
     "data": {
      "text/plain": [
       "Ridge(alpha=1.0, copy_X=True, fit_intercept=True, max_iter=None,\n",
       "   normalize=False, random_state=None, solver='auto', tol=0.001)"
      ]
     },
     "execution_count": 21,
     "metadata": {},
     "output_type": "execute_result"
    }
   ],
   "source": [
    "ModelRidge1.fit(X_skTrain, y_skTrain)"
   ]
  },
  {
   "cell_type": "code",
   "execution_count": 22,
   "metadata": {},
   "outputs": [
    {
     "data": {
      "text/plain": [
       "0.72767928817295491"
      ]
     },
     "execution_count": 22,
     "metadata": {},
     "output_type": "execute_result"
    }
   ],
   "source": [
    "#R-square value for Train Dataset\n",
    "ModelRidge1.score(X_skTrain, y_skTrain)"
   ]
  },
  {
   "cell_type": "code",
   "execution_count": 44,
   "metadata": {},
   "outputs": [
    {
     "data": {
      "text/plain": [
       "0.39751589655116648"
      ]
     },
     "execution_count": 44,
     "metadata": {},
     "output_type": "execute_result"
    }
   ],
   "source": [
    "#R-square value for Test Dataset\n",
    "ModelRidge1.score(X_skTest, y_skTest)"
   ]
  },
  {
   "cell_type": "code",
   "execution_count": 63,
   "metadata": {},
   "outputs": [
    {
     "data": {
      "text/plain": [
       "0.37892128015534576"
      ]
     },
     "execution_count": 63,
     "metadata": {},
     "output_type": "execute_result"
    }
   ],
   "source": [
    "ModelRidge1.score(X_skVal, y_skVal)"
   ]
  },
  {
   "cell_type": "code",
   "execution_count": 64,
   "metadata": {
    "collapsed": true
   },
   "outputs": [],
   "source": [
    "##### Linear Regression using RidgeCV() with CV=5 sklearn################\n",
    "#ModelRidgeCV = RidgeCV(cv=5, normalize=False)\n",
    "ModelRidgeCV = RidgeCV()"
   ]
  },
  {
   "cell_type": "code",
   "execution_count": 65,
   "metadata": {},
   "outputs": [
    {
     "data": {
      "text/plain": [
       "RidgeCV(alphas=(0.1, 1.0, 10.0), cv=None, fit_intercept=True, gcv_mode=None,\n",
       "    normalize=False, scoring=None, store_cv_values=False)"
      ]
     },
     "execution_count": 65,
     "metadata": {},
     "output_type": "execute_result"
    }
   ],
   "source": [
    "ModelRidgeCV.fit(X_skTrain, y_skTrain)"
   ]
  },
  {
   "cell_type": "code",
   "execution_count": 66,
   "metadata": {},
   "outputs": [
    {
     "data": {
      "text/plain": [
       "0.66912356893290792"
      ]
     },
     "execution_count": 66,
     "metadata": {},
     "output_type": "execute_result"
    }
   ],
   "source": [
    "ModelRidgeCV.score(X_skTrain, y_skTrain)"
   ]
  },
  {
   "cell_type": "code",
   "execution_count": 67,
   "metadata": {},
   "outputs": [
    {
     "data": {
      "text/plain": [
       "0.53320231332210166"
      ]
     },
     "execution_count": 67,
     "metadata": {},
     "output_type": "execute_result"
    }
   ],
   "source": [
    "ModelRidgeCV.score(X_skTest, y_skTest)"
   ]
  },
  {
   "cell_type": "code",
   "execution_count": 68,
   "metadata": {},
   "outputs": [
    {
     "data": {
      "text/plain": [
       "0.40007397229126185"
      ]
     },
     "execution_count": 68,
     "metadata": {},
     "output_type": "execute_result"
    }
   ],
   "source": [
    "ModelRidgeCV.score(X_skVal, y_skVal)"
   ]
  },
  {
   "cell_type": "code",
   "execution_count": 99,
   "metadata": {},
   "outputs": [
    {
     "data": {
      "text/plain": [
       "Lasso(alpha=1.0, copy_X=True, fit_intercept=True, max_iter=1000,\n",
       "   normalize=False, positive=False, precompute=False, random_state=None,\n",
       "   selection='cyclic', tol=0.0001, warm_start=False)"
      ]
     },
     "execution_count": 99,
     "metadata": {},
     "output_type": "execute_result"
    }
   ],
   "source": [
    "ModelLasso = Lasso()\n",
    "ModelLasso.fit(X_skTrain, y_skTrain)"
   ]
  },
  {
   "cell_type": "code",
   "execution_count": 100,
   "metadata": {},
   "outputs": [
    {
     "data": {
      "text/plain": [
       "0.0"
      ]
     },
     "execution_count": 100,
     "metadata": {},
     "output_type": "execute_result"
    }
   ],
   "source": [
    "ModelLasso.score(X_skTrain, y_skTrain)"
   ]
  },
  {
   "cell_type": "code",
   "execution_count": 101,
   "metadata": {},
   "outputs": [
    {
     "data": {
      "text/plain": [
       "-2.4694789368950865e-07"
      ]
     },
     "execution_count": 101,
     "metadata": {},
     "output_type": "execute_result"
    }
   ],
   "source": [
    "ModelLasso.score(X_skTest, y_skTest)"
   ]
  },
  {
   "cell_type": "code",
   "execution_count": 102,
   "metadata": {},
   "outputs": [
    {
     "data": {
      "text/plain": [
       "-5.7281773591100205e-07"
      ]
     },
     "execution_count": 102,
     "metadata": {},
     "output_type": "execute_result"
    }
   ],
   "source": [
    "ModelLasso.score(X_skVal, y_skVal)"
   ]
  },
  {
   "cell_type": "code",
   "execution_count": null,
   "metadata": {
    "collapsed": true
   },
   "outputs": [],
   "source": []
  },
  {
   "cell_type": "code",
   "execution_count": 71,
   "metadata": {
    "collapsed": true
   },
   "outputs": [],
   "source": [
    "##### Linear Regression using LassoCV() with CV=5 sklearn################\n",
    "#ModelLassoCV = LassoCV(cv=5, normalize=False)\n",
    "ModelLassoCV = LassoCV()"
   ]
  },
  {
   "cell_type": "code",
   "execution_count": 72,
   "metadata": {},
   "outputs": [
    {
     "data": {
      "text/plain": [
       "LassoCV(alphas=None, copy_X=True, cv=None, eps=0.001, fit_intercept=True,\n",
       "    max_iter=1000, n_alphas=100, n_jobs=1, normalize=False, positive=False,\n",
       "    precompute='auto', random_state=None, selection='cyclic', tol=0.0001,\n",
       "    verbose=False)"
      ]
     },
     "execution_count": 72,
     "metadata": {},
     "output_type": "execute_result"
    }
   ],
   "source": [
    "ModelLassoCV.fit(X_skTrain, y_skTrain)"
   ]
  },
  {
   "cell_type": "code",
   "execution_count": 73,
   "metadata": {},
   "outputs": [
    {
     "data": {
      "text/plain": [
       "0.60918729408816452"
      ]
     },
     "execution_count": 73,
     "metadata": {},
     "output_type": "execute_result"
    }
   ],
   "source": [
    "ModelLassoCV.score(X_skTrain, y_skTrain)"
   ]
  },
  {
   "cell_type": "code",
   "execution_count": 74,
   "metadata": {},
   "outputs": [
    {
     "data": {
      "text/plain": [
       "0.65888062209622222"
      ]
     },
     "execution_count": 74,
     "metadata": {},
     "output_type": "execute_result"
    }
   ],
   "source": [
    "ModelLassoCV.score(X_skTest, y_skTest)"
   ]
  },
  {
   "cell_type": "code",
   "execution_count": 75,
   "metadata": {},
   "outputs": [
    {
     "data": {
      "text/plain": [
       "0.51759006079491598"
      ]
     },
     "execution_count": 75,
     "metadata": {},
     "output_type": "execute_result"
    }
   ],
   "source": [
    "ModelLassoCV.score(X_skVal, y_skVal)"
   ]
  },
  {
   "cell_type": "code",
   "execution_count": 76,
   "metadata": {},
   "outputs": [
    {
     "data": {
      "text/html": [
       "<div>\n",
       "<style>\n",
       "    .dataframe thead tr:only-child th {\n",
       "        text-align: right;\n",
       "    }\n",
       "\n",
       "    .dataframe thead th {\n",
       "        text-align: left;\n",
       "    }\n",
       "\n",
       "    .dataframe tbody tr th {\n",
       "        vertical-align: top;\n",
       "    }\n",
       "</style>\n",
       "<table border=\"1\" class=\"dataframe\">\n",
       "  <thead>\n",
       "    <tr style=\"text-align: right;\">\n",
       "      <th></th>\n",
       "      <th>YEAR_x</th>\n",
       "      <th>TEAM</th>\n",
       "      <th>WINPERCENT_x</th>\n",
       "      <th>PREV_YEAR_x</th>\n",
       "      <th>GP_y</th>\n",
       "      <th>WINPERCENT_y</th>\n",
       "      <th>WinPCT_2013_14</th>\n",
       "      <th>MIN_y</th>\n",
       "      <th>PTS_y</th>\n",
       "      <th>FGM_y</th>\n",
       "      <th>...</th>\n",
       "      <th>DREB_y</th>\n",
       "      <th>REB_y</th>\n",
       "      <th>AST_y</th>\n",
       "      <th>TOV_y</th>\n",
       "      <th>STL_y</th>\n",
       "      <th>BLK_y</th>\n",
       "      <th>BLKA_y</th>\n",
       "      <th>PF_y</th>\n",
       "      <th>PFD_y</th>\n",
       "      <th>PlusMinus_y</th>\n",
       "    </tr>\n",
       "  </thead>\n",
       "  <tbody>\n",
       "    <tr>\n",
       "      <th>0</th>\n",
       "      <td>2015-16</td>\n",
       "      <td>Golden State Warriors</td>\n",
       "      <td>0.890</td>\n",
       "      <td>2014-15</td>\n",
       "      <td>82</td>\n",
       "      <td>0.817</td>\n",
       "      <td>0.622</td>\n",
       "      <td>48.1</td>\n",
       "      <td>110.0</td>\n",
       "      <td>41.6</td>\n",
       "      <td>...</td>\n",
       "      <td>34.3</td>\n",
       "      <td>44.7</td>\n",
       "      <td>27.4</td>\n",
       "      <td>14.5</td>\n",
       "      <td>9.3</td>\n",
       "      <td>6.0</td>\n",
       "      <td>3.6</td>\n",
       "      <td>19.9</td>\n",
       "      <td>18.8</td>\n",
       "      <td>10.1</td>\n",
       "    </tr>\n",
       "    <tr>\n",
       "      <th>1</th>\n",
       "      <td>2015-16</td>\n",
       "      <td>San Antonio Spurs</td>\n",
       "      <td>0.817</td>\n",
       "      <td>2014-15</td>\n",
       "      <td>82</td>\n",
       "      <td>0.671</td>\n",
       "      <td>0.756</td>\n",
       "      <td>48.7</td>\n",
       "      <td>103.2</td>\n",
       "      <td>39.1</td>\n",
       "      <td>...</td>\n",
       "      <td>33.8</td>\n",
       "      <td>43.6</td>\n",
       "      <td>24.4</td>\n",
       "      <td>14.0</td>\n",
       "      <td>8.0</td>\n",
       "      <td>5.4</td>\n",
       "      <td>4.4</td>\n",
       "      <td>19.1</td>\n",
       "      <td>19.7</td>\n",
       "      <td>6.2</td>\n",
       "    </tr>\n",
       "    <tr>\n",
       "      <th>2</th>\n",
       "      <td>2015-16</td>\n",
       "      <td>Cleveland Cavaliers</td>\n",
       "      <td>0.695</td>\n",
       "      <td>2014-15</td>\n",
       "      <td>82</td>\n",
       "      <td>0.646</td>\n",
       "      <td>0.402</td>\n",
       "      <td>48.2</td>\n",
       "      <td>103.1</td>\n",
       "      <td>37.7</td>\n",
       "      <td>...</td>\n",
       "      <td>31.9</td>\n",
       "      <td>43.0</td>\n",
       "      <td>22.1</td>\n",
       "      <td>14.3</td>\n",
       "      <td>7.4</td>\n",
       "      <td>4.1</td>\n",
       "      <td>4.5</td>\n",
       "      <td>18.4</td>\n",
       "      <td>20.5</td>\n",
       "      <td>4.5</td>\n",
       "    </tr>\n",
       "    <tr>\n",
       "      <th>3</th>\n",
       "      <td>2015-16</td>\n",
       "      <td>Toronto Raptors</td>\n",
       "      <td>0.683</td>\n",
       "      <td>2014-15</td>\n",
       "      <td>82</td>\n",
       "      <td>0.598</td>\n",
       "      <td>0.585</td>\n",
       "      <td>48.4</td>\n",
       "      <td>104.0</td>\n",
       "      <td>37.9</td>\n",
       "      <td>...</td>\n",
       "      <td>30.8</td>\n",
       "      <td>41.5</td>\n",
       "      <td>20.7</td>\n",
       "      <td>12.9</td>\n",
       "      <td>7.5</td>\n",
       "      <td>4.4</td>\n",
       "      <td>5.0</td>\n",
       "      <td>20.9</td>\n",
       "      <td>20.3</td>\n",
       "      <td>3.1</td>\n",
       "    </tr>\n",
       "    <tr>\n",
       "      <th>4</th>\n",
       "      <td>2015-16</td>\n",
       "      <td>Oklahoma City Thunder</td>\n",
       "      <td>0.671</td>\n",
       "      <td>2014-15</td>\n",
       "      <td>82</td>\n",
       "      <td>0.549</td>\n",
       "      <td>0.720</td>\n",
       "      <td>48.4</td>\n",
       "      <td>104.0</td>\n",
       "      <td>38.8</td>\n",
       "      <td>...</td>\n",
       "      <td>34.7</td>\n",
       "      <td>47.5</td>\n",
       "      <td>20.5</td>\n",
       "      <td>14.7</td>\n",
       "      <td>7.3</td>\n",
       "      <td>5.5</td>\n",
       "      <td>4.6</td>\n",
       "      <td>22.3</td>\n",
       "      <td>20.4</td>\n",
       "      <td>2.2</td>\n",
       "    </tr>\n",
       "  </tbody>\n",
       "</table>\n",
       "<p>5 rows × 29 columns</p>\n",
       "</div>"
      ],
      "text/plain": [
       "    YEAR_x                   TEAM  WINPERCENT_x PREV_YEAR_x  GP_y  \\\n",
       "0  2015-16  Golden State Warriors         0.890     2014-15    82   \n",
       "1  2015-16      San Antonio Spurs         0.817     2014-15    82   \n",
       "2  2015-16    Cleveland Cavaliers         0.695     2014-15    82   \n",
       "3  2015-16        Toronto Raptors         0.683     2014-15    82   \n",
       "4  2015-16  Oklahoma City Thunder         0.671     2014-15    82   \n",
       "\n",
       "   WINPERCENT_y  WinPCT_2013_14  MIN_y  PTS_y  FGM_y     ...       DREB_y  \\\n",
       "0         0.817           0.622   48.1  110.0   41.6     ...         34.3   \n",
       "1         0.671           0.756   48.7  103.2   39.1     ...         33.8   \n",
       "2         0.646           0.402   48.2  103.1   37.7     ...         31.9   \n",
       "3         0.598           0.585   48.4  104.0   37.9     ...         30.8   \n",
       "4         0.549           0.720   48.4  104.0   38.8     ...         34.7   \n",
       "\n",
       "   REB_y  AST_y  TOV_y  STL_y  BLK_y  BLKA_y  PF_y  PFD_y  PlusMinus_y  \n",
       "0   44.7   27.4   14.5    9.3    6.0     3.6  19.9   18.8         10.1  \n",
       "1   43.6   24.4   14.0    8.0    5.4     4.4  19.1   19.7          6.2  \n",
       "2   43.0   22.1   14.3    7.4    4.1     4.5  18.4   20.5          4.5  \n",
       "3   41.5   20.7   12.9    7.5    4.4     5.0  20.9   20.3          3.1  \n",
       "4   47.5   20.5   14.7    7.3    5.5     4.6  22.3   20.4          2.2  \n",
       "\n",
       "[5 rows x 29 columns]"
      ]
     },
     "execution_count": 76,
     "metadata": {},
     "output_type": "execute_result"
    }
   ],
   "source": [
    "df10.head()"
   ]
  },
  {
   "cell_type": "code",
   "execution_count": 119,
   "metadata": {},
   "outputs": [
    {
     "data": {
      "text/plain": [
       "array([ 0.        , -0.03650114, -0.00301891, -0.07859429,  0.02593506,\n",
       "       -0.03001456, -0.01274101, -0.04557523,  0.05338656, -0.03170766,\n",
       "       -0.03921506,  0.01428403, -0.02119499, -0.00303754,  0.00787165,\n",
       "        0.01246303, -0.03071435,  0.02310608,  0.00438578, -0.04620299,\n",
       "       -0.00672799, -0.01388177,  0.01851003, -0.02217387,  0.03967034])"
      ]
     },
     "execution_count": 119,
     "metadata": {},
     "output_type": "execute_result"
    }
   ],
   "source": [
    "ModelRidge1.coef_"
   ]
  },
  {
   "cell_type": "code",
   "execution_count": 108,
   "metadata": {},
   "outputs": [
    {
     "data": {
      "text/plain": [
       "array([ 0.77655424,  0.66115305,  0.60939039,  0.64576538,  0.55454835,\n",
       "        0.48114804,  0.58904278,  0.48040581,  0.49542245,  0.660109  ,\n",
       "        0.55395308,  0.42402815,  0.61981661,  0.50966298,  0.5967785 ,\n",
       "        0.60026388,  0.53572035,  0.52279649,  0.48039675,  0.31576595,\n",
       "        0.46186745,  0.40639811,  0.37018562,  0.3253917 ,  0.29218768,\n",
       "        0.39100348,  0.42896558,  0.30878418,  0.17923792,  0.72025603])"
      ]
     },
     "execution_count": 108,
     "metadata": {},
     "output_type": "execute_result"
    }
   ],
   "source": [
    "yPred_skTrain = ModelRidge1.predict(X_skTrain)\n",
    "yPred_skTrain"
   ]
  },
  {
   "cell_type": "code",
   "execution_count": 113,
   "metadata": {},
   "outputs": [
    {
     "data": {
      "text/plain": [
       "Text(0,0.5,'Residue_Train')"
      ]
     },
     "execution_count": 113,
     "metadata": {},
     "output_type": "execute_result"
    },
    {
     "data": {
      "image/png": "[encoded data removed]",
      "text/plain": [
       "<matplotlib.figure.Figure at 0x1f5f08074a8>"
      ]
     },
     "metadata": {},
     "output_type": "display_data"
    }
   ],
   "source": [
    "residueTrain = y_skTrain - yPred_skTrain\n",
    "\n",
    "#plt.scatter(yPred_skTrain, residueTrain, c=residueTrain, cmap=\"plasma\")\n",
    "\n",
    "plt.scatter(yPred_skTrain, residueTrain)\n",
    "\n",
    "#plt.plot(yPred_skTrain, residueTrain)\n",
    "\n",
    "#plt.barh(yPred_skTrain, residueTrain)\n",
    "\n",
    "#plt.plot(x, x, 'r--');\n",
    "\n",
    "plt.xlabel('Pred_Train Values')\n",
    "plt.ylabel('Residue_Train')"
   ]
  },
  {
   "cell_type": "code",
   "execution_count": 114,
   "metadata": {},
   "outputs": [
    {
     "data": {
      "text/plain": [
       "array([ 0.76032243,  0.78678967,  0.35298014,  0.64194299,  0.47432509,\n",
       "        0.54402987,  0.67953993,  0.55684384,  0.4958499 ,  0.68308685,\n",
       "        0.47694255,  0.63777803,  0.45916249,  0.36606562,  0.42344235,\n",
       "        0.48582771,  0.54102028,  0.41473246,  0.35538154,  0.55487377,\n",
       "        0.38334411,  0.49025095,  0.29988149,  0.47397727,  0.52025238,\n",
       "        0.44155237,  0.16807459,  0.28748329,  0.25599829,  0.24204834])"
      ]
     },
     "execution_count": 114,
     "metadata": {},
     "output_type": "execute_result"
    }
   ],
   "source": [
    "yPred_skTest = ModelRidge1.predict(X_skTest)\n",
    "yPred_skTest"
   ]
  },
  {
   "cell_type": "code",
   "execution_count": 115,
   "metadata": {},
   "outputs": [
    {
     "data": {
      "text/plain": [
       "Text(0,0.5,'Residue_Test')"
      ]
     },
     "execution_count": 115,
     "metadata": {},
     "output_type": "execute_result"
    },
    {
     "data": {
      "image/png": "[encoded data removed]",
      "text/plain": [
       "<matplotlib.figure.Figure at 0x1f5f08244a8>"
      ]
     },
     "metadata": {},
     "output_type": "display_data"
    }
   ],
   "source": [
    "residueTest = y_skTest - yPred_skTest\n",
    "\n",
    "#plt.scatter(yPred_skTrain, residueTrain, c=residueTrain, cmap=\"plasma\")\n",
    "\n",
    "plt.scatter(yPred_skTest, residueTest)\n",
    "\n",
    "plt.xlabel('Pred_Test Values')\n",
    "plt.ylabel('Residue_Test')"
   ]
  },
  {
   "cell_type": "code",
   "execution_count": 116,
   "metadata": {},
   "outputs": [
    {
     "data": {
      "text/plain": [
       "array([ 0.86210455,  0.68546156,  0.69179369,  0.53810981,  0.65012672,\n",
       "        0.49317017,  0.49484278,  0.48234518,  0.45676726,  0.49718475,\n",
       "        0.36990439,  0.52236657,  0.41304046,  0.42586624,  0.51447811,\n",
       "        0.34581427,  0.48063562,  0.56997992,  0.42425617,  0.3609975 ,\n",
       "        0.55658613,  0.22886543,  0.51489342,  0.3082912 ,  0.55038256,\n",
       "        0.27747901,  0.46541079,  0.38033354,  0.31463613,  0.34280489])"
      ]
     },
     "execution_count": 116,
     "metadata": {},
     "output_type": "execute_result"
    }
   ],
   "source": [
    "yPred_skVal = ModelRidge1.predict(X_skVal)\n",
    "yPred_skVal"
   ]
  },
  {
   "cell_type": "code",
   "execution_count": 118,
   "metadata": {},
   "outputs": [
    {
     "data": {
      "text/plain": [
       "Text(0,0.5,'Residue_Validate_2017-2018')"
      ]
     },
     "execution_count": 118,
     "metadata": {},
     "output_type": "execute_result"
    },
    {
     "data": {
      "image/png": "[encoded data removed]",
      "text/plain": [
       "<matplotlib.figure.Figure at 0x1f5f18c54a8>"
      ]
     },
     "metadata": {},
     "output_type": "display_data"
    }
   ],
   "source": [
    "residueVal = y_skVal - yPred_skVal\n",
    "\n",
    "#plt.scatter(yPred_skTrain, residueTrain, c=residueTrain, cmap=\"plasma\")\n",
    "\n",
    "plt.scatter(yPred_skVal, residueVal)\n",
    "\n",
    "plt.xlabel('Pred_Validate Values_2017-2018')\n",
    "plt.ylabel('Residue_Validate_2017-2018')"
   ]
  },
  {
   "cell_type": "code",
   "execution_count": null,
   "metadata": {
    "collapsed": true
   },
   "outputs": [],
   "source": []
  }
 ],
 "metadata": {
  "kernelspec": {
   "display_name": "Python 3",
   "language": "python",
   "name": "python3"
  },
  "language_info": {
   "codemirror_mode": {
    "name": "ipython",
    "version": 3
   },
   "file_extension": ".py",
   "mimetype": "text/x-python",
   "name": "python",
   "nbconvert_exporter": "python",
   "pygments_lexer": "ipython3",
   "version": "3.6.3"
  }
 },
 "nbformat": 4,
 "nbformat_minor": 2
}
